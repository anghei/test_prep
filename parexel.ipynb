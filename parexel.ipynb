{
 "cells": [
  {
   "cell_type": "code",
   "execution_count": 1,
   "id": "8d53fedc",
   "metadata": {},
   "outputs": [],
   "source": [
    "import pandas as pd\n",
    "import numpy as np\n",
    "from scipy import stats as st\n",
    "import statsmodels.stats.api as sms\n",
    "from statsmodels.stats.proportion import proportion_confint, confint_proportions_2indep"
   ]
  },
  {
   "cell_type": "code",
   "execution_count": 2,
   "id": "44265069",
   "metadata": {},
   "outputs": [],
   "source": [
    "df = pd.read_csv('resp1.csv', sep='@')"
   ]
  },
  {
   "cell_type": "code",
   "execution_count": 3,
   "id": "2ba0666b",
   "metadata": {},
   "outputs": [
    {
     "data": {
      "text/html": [
       "<div>\n",
       "<style scoped>\n",
       "    .dataframe tbody tr th:only-of-type {\n",
       "        vertical-align: middle;\n",
       "    }\n",
       "\n",
       "    .dataframe tbody tr th {\n",
       "        vertical-align: top;\n",
       "    }\n",
       "\n",
       "    .dataframe thead th {\n",
       "        text-align: right;\n",
       "    }\n",
       "</style>\n",
       "<table border=\"1\" class=\"dataframe\">\n",
       "  <thead>\n",
       "    <tr style=\"text-align: right;\">\n",
       "      <th></th>\n",
       "      <th>gender</th>\n",
       "      <th>SITEID</th>\n",
       "      <th>SUBJID</th>\n",
       "      <th>TRTPN</th>\n",
       "      <th>responseCategory</th>\n",
       "    </tr>\n",
       "  </thead>\n",
       "  <tbody>\n",
       "    <tr>\n",
       "      <th>0</th>\n",
       "      <td>MALE</td>\n",
       "      <td>1</td>\n",
       "      <td>27</td>\n",
       "      <td>2</td>\n",
       "      <td>SD</td>\n",
       "    </tr>\n",
       "    <tr>\n",
       "      <th>1</th>\n",
       "      <td>FEMALE</td>\n",
       "      <td>1</td>\n",
       "      <td>39</td>\n",
       "      <td>1</td>\n",
       "      <td>PD</td>\n",
       "    </tr>\n",
       "    <tr>\n",
       "      <th>2</th>\n",
       "      <td>MALE</td>\n",
       "      <td>1</td>\n",
       "      <td>126</td>\n",
       "      <td>2</td>\n",
       "      <td>PD</td>\n",
       "    </tr>\n",
       "    <tr>\n",
       "      <th>3</th>\n",
       "      <td>MALE</td>\n",
       "      <td>1</td>\n",
       "      <td>154</td>\n",
       "      <td>1</td>\n",
       "      <td>SD</td>\n",
       "    </tr>\n",
       "    <tr>\n",
       "      <th>4</th>\n",
       "      <td>FEMALE</td>\n",
       "      <td>1</td>\n",
       "      <td>161</td>\n",
       "      <td>1</td>\n",
       "      <td>PD</td>\n",
       "    </tr>\n",
       "    <tr>\n",
       "      <th>...</th>\n",
       "      <td>...</td>\n",
       "      <td>...</td>\n",
       "      <td>...</td>\n",
       "      <td>...</td>\n",
       "      <td>...</td>\n",
       "    </tr>\n",
       "    <tr>\n",
       "      <th>577</th>\n",
       "      <td>FEMALE</td>\n",
       "      <td>97</td>\n",
       "      <td>758</td>\n",
       "      <td>2</td>\n",
       "      <td>SD</td>\n",
       "    </tr>\n",
       "    <tr>\n",
       "      <th>578</th>\n",
       "      <td>FEMALE</td>\n",
       "      <td>98</td>\n",
       "      <td>293</td>\n",
       "      <td>2</td>\n",
       "      <td>SD</td>\n",
       "    </tr>\n",
       "    <tr>\n",
       "      <th>579</th>\n",
       "      <td>MALE</td>\n",
       "      <td>99</td>\n",
       "      <td>176</td>\n",
       "      <td>2</td>\n",
       "      <td>SD</td>\n",
       "    </tr>\n",
       "    <tr>\n",
       "      <th>580</th>\n",
       "      <td>MALE</td>\n",
       "      <td>99</td>\n",
       "      <td>564</td>\n",
       "      <td>2</td>\n",
       "      <td>PR</td>\n",
       "    </tr>\n",
       "    <tr>\n",
       "      <th>581</th>\n",
       "      <td>MALE</td>\n",
       "      <td>99</td>\n",
       "      <td>723</td>\n",
       "      <td>1</td>\n",
       "      <td>NE</td>\n",
       "    </tr>\n",
       "  </tbody>\n",
       "</table>\n",
       "<p>582 rows × 5 columns</p>\n",
       "</div>"
      ],
      "text/plain": [
       "     gender  SITEID  SUBJID  TRTPN responseCategory\n",
       "0      MALE       1      27      2               SD\n",
       "1    FEMALE       1      39      1               PD\n",
       "2      MALE       1     126      2               PD\n",
       "3      MALE       1     154      1               SD\n",
       "4    FEMALE       1     161      1               PD\n",
       "..      ...     ...     ...    ...              ...\n",
       "577  FEMALE      97     758      2               SD\n",
       "578  FEMALE      98     293      2               SD\n",
       "579    MALE      99     176      2               SD\n",
       "580    MALE      99     564      2               PR\n",
       "581    MALE      99     723      1               NE\n",
       "\n",
       "[582 rows x 5 columns]"
      ]
     },
     "execution_count": 3,
     "metadata": {},
     "output_type": "execute_result"
    }
   ],
   "source": [
    "df"
   ]
  },
  {
   "cell_type": "code",
   "execution_count": 4,
   "id": "a10f8082",
   "metadata": {},
   "outputs": [],
   "source": [
    "df.rename(columns={'SITEID': 'site_id', 'SUBJID': 'subj_id', 'TRTPN': 'treatment', 'responseCategory': 'response_cat'}, inplace=True)"
   ]
  },
  {
   "cell_type": "code",
   "execution_count": 5,
   "id": "6159c6af",
   "metadata": {},
   "outputs": [
    {
     "name": "stdout",
     "output_type": "stream",
     "text": [
      "<class 'pandas.core.frame.DataFrame'>\n",
      "RangeIndex: 582 entries, 0 to 581\n",
      "Data columns (total 5 columns):\n",
      " #   Column        Non-Null Count  Dtype \n",
      "---  ------        --------------  ----- \n",
      " 0   gender        582 non-null    object\n",
      " 1   site_id       582 non-null    int64 \n",
      " 2   subj_id       582 non-null    int64 \n",
      " 3   treatment     582 non-null    int64 \n",
      " 4   response_cat  582 non-null    object\n",
      "dtypes: int64(3), object(2)\n",
      "memory usage: 22.9+ KB\n"
     ]
    }
   ],
   "source": [
    "df.info()"
   ]
  },
  {
   "cell_type": "code",
   "execution_count": 6,
   "id": "af29bb3c",
   "metadata": {},
   "outputs": [
    {
     "data": {
      "text/plain": [
       "gender          0\n",
       "site_id         0\n",
       "subj_id         0\n",
       "treatment       0\n",
       "response_cat    0\n",
       "dtype: int64"
      ]
     },
     "execution_count": 6,
     "metadata": {},
     "output_type": "execute_result"
    }
   ],
   "source": [
    "df.isna().sum().mul(100)"
   ]
  },
  {
   "cell_type": "code",
   "execution_count": 7,
   "id": "80f9b946",
   "metadata": {},
   "outputs": [],
   "source": [
    "rc = []\n",
    "tr = []\n",
    "\n",
    "val_1 = 1\n",
    "val_0 = 0\n",
    "\n",
    "for responce in df['response_cat']:\n",
    "  if responce in ('CR', 'PR'):\n",
    "    rc.append(val_1)\n",
    "  else:\n",
    "    rc.append(val_0)\n",
    "\n",
    "for treat in df['treatment']:\n",
    "    if treat == 1:\n",
    "        tr.append(val_1)\n",
    "    else:\n",
    "        tr.append(val_0)\n",
    "        \n",
    "df['response'] = pd.Series(rc)\n",
    "df['treatment'] = pd.Series(tr)"
   ]
  },
  {
   "cell_type": "code",
   "execution_count": 18,
   "id": "af5da6db",
   "metadata": {},
   "outputs": [
    {
     "name": "stdout",
     "output_type": "stream",
     "text": [
      "OddsR: 1.67\n",
      "OddsR with CI: 1.67 (1.18, 2.97)\n"
     ]
    }
   ],
   "source": [
    "matrix = df.groupby(['treatment', 'response']) \\\n",
    "    .agg({'response_cat': 'count'}) \\\n",
    "    .groupby(level=['treatment', 'response']) \\\n",
    "    .sum().values\n",
    "\n",
    "table = np.array(\n",
    "    [\n",
    "        [matrix[-1][0], matrix[-2][0]],\n",
    "        [matrix[-3][0], matrix[-4][0]]\n",
    "    ]\n",
    ")\n",
    "\n",
    "oddsratio, pvalue = st.fisher_exact(table)\n",
    "\n",
    "print(f\"OddsR: {round(oddsratio, 2)}\")\n",
    "\n",
    "wald_CI = confint_proportions_2indep(\n",
    "    count1=matrix[-1][0], nobs1=matrix[-2][0],\n",
    "    count2=matrix[-3][0], nobs2=matrix[-4][0],\n",
    "    compare='or',\n",
    "    correction=True\n",
    ")\n",
    "\n",
    "print(f\"OddsR with CI: {round(oddsratio, 2)} {round(wald_CI[0], 2), round(wald_CI[1], 2)}\")"
   ]
  },
  {
   "cell_type": "code",
   "execution_count": 9,
   "id": "73d050e1",
   "metadata": {},
   "outputs": [
    {
     "name": "stdout",
     "output_type": "stream",
     "text": [
      "OddsR (Male): 1.99\n",
      "OddsR (Male) with CI: 1.99 (1.26, 4.31)\n"
     ]
    }
   ],
   "source": [
    "matrix_male = df.query(\"gender == 'MALE'\") \\\n",
    "    .groupby(['treatment', 'response']) \\\n",
    "    .agg({'response_cat': 'count'}) \\\n",
    "    .groupby(level=['treatment', 'response']) \\\n",
    "    .sum().values\n",
    "\n",
    "table_male = np.array(\n",
    "    [\n",
    "        [matrix_male[-1][0], matrix_male[-2][0]],\n",
    "        [matrix_male[-3][0], matrix_male[-4][0]]\n",
    "    ]\n",
    ")\n",
    "\n",
    "oddsratio_male, pvalue_male = st.fisher_exact(table_male)\n",
    "\n",
    "print(f\"OddsR (Male): {round(oddsratio_male, 2)}\")\n",
    "\n",
    "wald_CI_male = confint_proportions_2indep(\n",
    "    count1=matrix_male[-1][0], nobs1=matrix_male[-2][0],\n",
    "    count2=matrix_male[-3][0], nobs2=matrix_male[-4][0],\n",
    "    compare='or',\n",
    "    correction=True\n",
    ")\n",
    "\n",
    "print(f\"OddsR (Male) with CI: {round(oddsratio_male, 2)} {round(wald_CI_male[0], 2), round(wald_CI_male[1], 2)}\")"
   ]
  },
  {
   "cell_type": "code",
   "execution_count": 10,
   "id": "69e4ea24",
   "metadata": {},
   "outputs": [
    {
     "name": "stdout",
     "output_type": "stream",
     "text": [
      "OddsR (Female): 1.36\n",
      "OddsR (Female) with CI: 1.36 (0.72, 2.86)\n"
     ]
    }
   ],
   "source": [
    "matrix_female = df.query(\"gender == 'FEMALE'\") \\\n",
    "    .groupby(['treatment', 'response']) \\\n",
    "    .agg({'response_cat': 'count'}) \\\n",
    "    .groupby(level=['treatment', 'response']) \\\n",
    "    .sum().values\n",
    "\n",
    "table_female = np.array(\n",
    "    [\n",
    "        [matrix_female[-1][0], matrix_female[-2][0]],\n",
    "        [matrix_female[-3][0], matrix_female[-4][0]]\n",
    "    ]\n",
    ")\n",
    "\n",
    "oddsratio_female, pvalue_female = st.fisher_exact(table_female)\n",
    "\n",
    "print(f\"OddsR (Female): {round(oddsratio_female, 2)}\")\n",
    "\n",
    "wald_CI_female = confint_proportions_2indep(\n",
    "    count1=matrix_female[-1][0], nobs1=matrix_female[-2][0],\n",
    "    count2=matrix_female[-3][0], nobs2=matrix_female[-4][0],\n",
    "    compare='or',\n",
    "    correction=True\n",
    ")\n",
    "\n",
    "print(f\"OddsR (Female) with CI: {round(oddsratio_female, 2)} {round(wald_CI_female[0], 2), round(wald_CI_female[1], 2)}\")"
   ]
  },
  {
   "cell_type": "code",
   "execution_count": 11,
   "id": "745c1f9f",
   "metadata": {},
   "outputs": [],
   "source": [
    "df_gender = df.copy()"
   ]
  },
  {
   "cell_type": "code",
   "execution_count": 12,
   "id": "7a56aef5",
   "metadata": {},
   "outputs": [],
   "source": [
    "gender = []\n",
    "\n",
    "val_1 = 1\n",
    "val_0 = 0\n",
    "\n",
    "\n",
    "for sex in df_gender['gender']:\n",
    "    if sex == 'FEMALE':\n",
    "        gender.append(val_1)\n",
    "    else:\n",
    "        gender.append(val_0)\n",
    "        \n",
    "df_gender['sex'] = pd.Series(gender)\n"
   ]
  },
  {
   "cell_type": "code",
   "execution_count": 15,
   "id": "c9f6bd0c",
   "metadata": {},
   "outputs": [
    {
     "name": "stdout",
     "output_type": "stream",
     "text": [
      "OddsR Female vs. Male (Treatment 1): 0.76\n",
      "OddsR Female vs. Male (Treatment 1) with CI: 0.76 (0.39, 1.29)\n"
     ]
    }
   ],
   "source": [
    "matrix_treat1 = df_gender.query(\"treatment == 1\") \\\n",
    "    .groupby(['sex', 'response']) \\\n",
    "    .agg({'response_cat': 'count'}) \\\n",
    "    .groupby(level=['sex', 'response']) \\\n",
    "    .sum().values\n",
    "\n",
    "table_treat1 = np.array(\n",
    "    [\n",
    "        [matrix_treat1[-1][0], matrix_treat1[-2][0]],\n",
    "        [matrix_treat1[-3][0], matrix_treat1[-4][0]]\n",
    "    ]\n",
    ")\n",
    "\n",
    "oddsratio_treat1, pvalue_treat1 = st.fisher_exact(table_treat1)\n",
    "\n",
    "print(f\"OddsR Female vs. Male (Treatment 1): {round(oddsratio_treat1, 2)}\")\n",
    "\n",
    "wald_CI_treat1 = confint_proportions_2indep(\n",
    "    count1=matrix_treat1[-1][0], nobs1=matrix_treat1[-2][0],\n",
    "    count2=matrix_treat1[-3][0], nobs2=matrix_treat1[-4][0],\n",
    "    compare='or',\n",
    "    correction=True\n",
    ")\n",
    "\n",
    "print(f\"OddsR Female vs. Male (Treatment 1) with CI: {round(oddsratio_treat1, 2)} {round(wald_CI_treat1[0], 2), round(wald_CI_treat1[1], 2)}\")"
   ]
  },
  {
   "cell_type": "code",
   "execution_count": 16,
   "id": "8d6e255c",
   "metadata": {},
   "outputs": [
    {
     "name": "stdout",
     "output_type": "stream",
     "text": [
      "OddsR Female vs. Male (Treatment 2): 1.12\n",
      "OddsR Female vs. Male (Treatment 2) with CI: 1.12 (0.57, 2.31)\n"
     ]
    }
   ],
   "source": [
    "matrix_treat2 = df_gender.query(\"treatment == 0\") \\\n",
    "    .groupby(['sex', 'response']) \\\n",
    "    .agg({'response_cat': 'count'}) \\\n",
    "    .groupby(level=['sex', 'response']) \\\n",
    "    .sum().values\n",
    "\n",
    "table_treat2 = np.array(\n",
    "    [\n",
    "        [matrix_treat2[-1][0], matrix_treat2[-2][0]],\n",
    "        [matrix_treat2[-3][0], matrix_treat2[-4][0]]\n",
    "    ]\n",
    ")\n",
    "\n",
    "oddsratio_treat2, pvalue_treat2 = st.fisher_exact(table_treat2)\n",
    "\n",
    "print(f\"OddsR Female vs. Male (Treatment 2): {round(oddsratio_treat2, 2)}\")\n",
    "\n",
    "wald_CI_treat2 = confint_proportions_2indep(\n",
    "    count1=matrix_treat2[-1][0], nobs1=matrix_treat2[-2][0],\n",
    "    count2=matrix_treat2[-3][0], nobs2=matrix_treat2[-4][0],\n",
    "    compare='or',\n",
    "    correction=True\n",
    ")\n",
    "\n",
    "print(f\"OddsR Female vs. Male (Treatment 2) with CI: {round(oddsratio_treat2, 2)} {round(wald_CI_treat2[0], 2), round(wald_CI_treat2[1], 2)}\")"
   ]
  },
  {
   "cell_type": "code",
   "execution_count": null,
   "id": "0d27ab62",
   "metadata": {},
   "outputs": [],
   "source": []
  }
 ],
 "metadata": {
  "kernelspec": {
   "display_name": "Python 3 (ipykernel)",
   "language": "python",
   "name": "python3"
  },
  "language_info": {
   "codemirror_mode": {
    "name": "ipython",
    "version": 3
   },
   "file_extension": ".py",
   "mimetype": "text/x-python",
   "name": "python",
   "nbconvert_exporter": "python",
   "pygments_lexer": "ipython3",
   "version": "3.9.7"
  }
 },
 "nbformat": 4,
 "nbformat_minor": 5
}
